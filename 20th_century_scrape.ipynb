{
 "cells": [
  {
   "cell_type": "markdown",
   "id": "d09a4cac-9f79-40fd-85ab-ea9837ac66c5",
   "metadata": {},
   "source": [
    "### 1.4 Accessing web data without an API"
   ]
  },
  {
   "cell_type": "code",
   "execution_count": 1,
   "id": "46bf5d6c-d0e1-4694-b050-265bc4dff3a3",
   "metadata": {},
   "outputs": [],
   "source": [
    "# Import libraries\n",
    "\n",
    "import pandas as pd\n",
    "from selenium import webdriver\n",
    "from webdriver_manager.chrome import ChromeDriverManager\n",
    "from selenium.webdriver.common.by import By\n",
    "from selenium.webdriver.chrome.service import Service\n",
    "from selenium.webdriver.chrome.options import Options\n",
    "import matplotlib.pyplot as plt\n",
    "import os\n",
    "import bs4"
   ]
  },
  {
   "cell_type": "code",
   "execution_count": 2,
   "id": "47d9dc37-f625-4134-90ba-8eb54d5799da",
   "metadata": {},
   "outputs": [],
   "source": [
    "## Setup chrome options\n",
    "\n",
    "chrome_options = Options()\n",
    "chrome_options.add_argument(\"--headless\") # Ensure GUI is off\n",
    "chrome_options.add_argument(\"--no-sandbox\")"
   ]
  },
  {
   "cell_type": "code",
   "execution_count": 3,
   "id": "b4cad027-b104-45fd-add9-5b1ae3a9991f",
   "metadata": {},
   "outputs": [],
   "source": [
    "# Install Chrome driver manager\n",
    "\n",
    "service = Service(ChromeDriverManager().install())\n",
    "driver = webdriver.Chrome(service=service)"
   ]
  },
  {
   "cell_type": "markdown",
   "id": "b631e999-84f7-47cb-8716-a2641e3afd0a",
   "metadata": {},
   "source": [
    "### Scraping Wikipedia's Key Events of the 20th Century Page"
   ]
  },
  {
   "cell_type": "code",
   "execution_count": 4,
   "id": "33f5568a-54fd-4d86-ad6f-1e878d9569f6",
   "metadata": {},
   "outputs": [],
   "source": [
    "import requests\n",
    "from bs4 import BeautifulSoup"
   ]
  },
  {
   "cell_type": "code",
   "execution_count": 5,
   "id": "95435bc9-b780-4fdc-baba-3fcf40241ca7",
   "metadata": {},
   "outputs": [],
   "source": [
    "# Get URL\n",
    "\n",
    "page = requests.get(\"https://en.wikipedia.org/wiki/Key_events_of_the_20th_century\")"
   ]
  },
  {
   "cell_type": "code",
   "execution_count": null,
   "id": "d6e7e020-aebe-479d-be0f-e91e43300441",
   "metadata": {},
   "outputs": [],
   "source": [
    "# Create soup and get title\n",
    "\n",
    "soup = BeautifulSoup(page.text, 'html.parser')\n",
    "print(soup.text)"
   ]
  },
  {
   "cell_type": "code",
   "execution_count": 7,
   "id": "5f3bf014-fc1c-4843-9d69-736b04c4e3a4",
   "metadata": {},
   "outputs": [],
   "source": [
    "text = soup.get_text()"
   ]
  },
  {
   "cell_type": "code",
   "execution_count": 8,
   "id": "c2a4e8db-ee48-4e6d-ae0b-9f2af7e996b5",
   "metadata": {},
   "outputs": [],
   "source": [
    "text = text.encode('utf-8')"
   ]
  },
  {
   "cell_type": "code",
   "execution_count": 9,
   "id": "d05d98ac-ccc3-4e05-b51b-817dc573ce5a",
   "metadata": {},
   "outputs": [],
   "source": [
    "with open('Key_events_20th_century_Wiki.txt', 'wb') as f:\n",
    "    f.write(text)"
   ]
  },
  {
   "cell_type": "code",
   "execution_count": null,
   "id": "aae58b3b-eec1-4887-a2d2-b680a3c65580",
   "metadata": {},
   "outputs": [],
   "source": []
  }
 ],
 "metadata": {
  "kernelspec": {
   "display_name": "Python (20th_century)",
   "language": "python",
   "name": "20th_century"
  },
  "language_info": {
   "codemirror_mode": {
    "name": "ipython",
    "version": 3
   },
   "file_extension": ".py",
   "mimetype": "text/x-python",
   "name": "python",
   "nbconvert_exporter": "python",
   "pygments_lexer": "ipython3",
   "version": "3.13.5"
  }
 },
 "nbformat": 4,
 "nbformat_minor": 5
}
